{
 "cells": [
  {
   "cell_type": "code",
   "execution_count": 13,
   "id": "4cc5e213",
   "metadata": {},
   "outputs": [],
   "source": [
    "import requests as rq\n",
    "import json\n",
    "import sys\n",
    "from datetime import datetime"
   ]
  },
  {
   "cell_type": "code",
   "execution_count": 2,
   "id": "cb999338",
   "metadata": {},
   "outputs": [
    {
     "name": "stdout",
     "output_type": "stream",
     "text": [
      "{'Apellido': 'Insaurralde', 'ClienteID': 9, 'Descripcion': '3500 bot', 'FacturaID': 2, 'FechaPago': 'Tue, 20 Jul 2021 00:00:00 GMT', 'MetodoPago': 'Mercado Pago de contado', 'Nombre': 'Graciela'}\n"
     ]
    }
   ],
   "source": [
    "response = rq.get(\"http://localhost:5000/factura\").text\n",
    "clr_response = json.loads(response)\n",
    "print(clr_response['bills'][4])\n",
    "#print(clr_response)"
   ]
  },
  {
   "cell_type": "code",
   "execution_count": 3,
   "id": "76bf4113",
   "metadata": {},
   "outputs": [
    {
     "name": "stdout",
     "output_type": "stream",
     "text": [
      "{'Apellido': 'Insaurralde', 'Direccion': 'JACALLE 27', 'ID': 9, 'Nombre': 'Graciela'}\n"
     ]
    }
   ],
   "source": [
    "response = rq.get(\"http://localhost:5000/user\").text\n",
    "clr_response = json.loads(response)\n",
    "print(clr_response['usuarios'][4])\n",
    "#print(clr_response)"
   ]
  },
  {
   "cell_type": "code",
   "execution_count": 41,
   "id": "5cd14ee8",
   "metadata": {},
   "outputs": [
    {
     "name": "stdout",
     "output_type": "stream",
     "text": [
      "todo bom\n"
     ]
    }
   ],
   "source": [
    "import dateutil\n",
    "from datetime import datetime\n",
    "\n",
    "data = {'Matricula': 3027,\n",
    "        'Nombre': 'Graciela',\n",
    "        'Apellido': 'Insaurralde'\n",
    "       }\n",
    "response = rq.post(\"http://localhost:5000/login\", json = data)\n",
    "if response.status_code != 200:\n",
    "    print('Error')\n",
    "    sys.exit(0)\n",
    "clr_response = json.loads(response.text)\n",
    "a_month = dateutil.relativedelta.relativedelta(months=1)\n",
    "pay_date = dateutil.parser.parse(clr_response['user']['FechaPago']).date()\n",
    "\n",
    "expiration = pay_date + a_month\n",
    "current = datetime.date(datetime.now())\n",
    "\n",
    "\n",
    "if current > expiration:\n",
    "    print(\"Debe abonar el servicio\")\n",
    "else:\n",
    "    print(\"todo bom\")\n"
   ]
  }
 ],
 "metadata": {
  "kernelspec": {
   "display_name": "Python 3",
   "language": "python",
   "name": "python3"
  },
  "language_info": {
   "codemirror_mode": {
    "name": "ipython",
    "version": 3
   },
   "file_extension": ".py",
   "mimetype": "text/x-python",
   "name": "python",
   "nbconvert_exporter": "python",
   "pygments_lexer": "ipython3",
   "version": "3.8.5"
  }
 },
 "nbformat": 4,
 "nbformat_minor": 5
}
